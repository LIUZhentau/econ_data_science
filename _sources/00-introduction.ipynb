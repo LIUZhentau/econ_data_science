{
 "cells": [
  {
   "cell_type": "markdown",
   "metadata": {},
   "source": [
    "# Introduction"
   ]
  },
  {
   "cell_type": "markdown",
   "metadata": {},
   "source": [
    "[The Missing Semester of Your CS Education](https://missing.csail.mit.edu/)"
   ]
  },
  {
   "cell_type": "markdown",
   "metadata": {},
   "source": [
    "Let's call it data science. So it is not as industrial oriented as \"big data\". We don't have big data at hand.\n",
    "\n",
    "\n",
    "Data science is about the entire life cycle of data analysis. \n",
    "Instead, economics is about the analysis after the data is prepared.\n",
    "\n",
    "\n",
    "\n",
    "\"Big data\" is a popular concept in formation.\n",
    "\n",
    "A basket of industrial applications. \n",
    "\n",
    "Digitalized information. Cheap to collect, transport, store, and distribute.\n",
    "\n",
    "These are engineering questions."
   ]
  },
  {
   "cell_type": "markdown",
   "metadata": {},
   "source": [
    "Economics approach\n",
    "\n",
    "* Start from a question\n",
    "\n",
    "* Find data\n",
    "* Clean data\n",
    "* Analyze data\n",
    "* Interpret data\n",
    "* Present data\n"
   ]
  },
  {
   "cell_type": "markdown",
   "metadata": {},
   "source": [
    "### Why data\n",
    "\n",
    "* Scientific research. Physics.\n",
    "* Theory and experiment evidence.\n",
    "\n",
    "* Economics research.\n",
    "\n",
    "* Business analytics. Facts and strategies. (My Zhihu account)\n",
    "  * Descriptive stat\n",
    "  * Inference\n",
    "  * Prediction"
   ]
  },
  {
   "cell_type": "markdown",
   "metadata": {},
   "source": [
    "### Structured data\n",
    "\n",
    "\n",
    "Example of big data. Big or small, computer reading digital representation\n",
    "- tall and narrow\n",
    "- short and wide\n",
    "- tall and wide\n",
    "\n",
    "Covid-19 data (https://github.com/owid/covid-19-data)\n",
    "\n",
    "\n",
    "* Cross sectional\n",
    "* Time series\n",
    "* Panel data"
   ]
  },
  {
   "cell_type": "markdown",
   "metadata": {},
   "source": [
    "### Unstructured data\n",
    "\n",
    "* Text\n",
    "* Graph\n",
    "\n",
    "* Audio\n",
    "* Video"
   ]
  },
  {
   "cell_type": "markdown",
   "metadata": {},
   "source": [
    "- Bootstrap (divide and conquer)\n",
    "- Subsample\n",
    "- \n",
    "\n",
    "- panel data (never covered)\n",
    "- nonparametric estimation (tall and narrow)\n",
    "- machine learning techniques (short and wide)\n",
    "- PCA (tall and wide)\n",
    "- text data, graphic data, ...\n",
    "\n",
    "\n",
    "Economic questions:\n",
    "- Merge\n",
    "- For a business decision, data is better than nothing, and even a regression model is helpful, viewed as a hypothesis. (Not academic view of 'truth'.) Data collection is costly\n",
    "- Causality\n",
    "- covid restriction. https://zhuanlan.zhihu.com/p/503942200"
   ]
  },
  {
   "cell_type": "markdown",
   "metadata": {},
   "source": []
  }
 ],
 "metadata": {
  "kernelspec": {
   "display_name": "R [conda env:r]",
   "language": "R",
   "name": "conda-env-r-r"
  },
  "language_info": {
   "codemirror_mode": "r",
   "file_extension": ".r",
   "mimetype": "text/x-r-source",
   "name": "R",
   "pygments_lexer": "r",
   "version": "4.1.2"
  }
 },
 "nbformat": 4,
 "nbformat_minor": 4
}
