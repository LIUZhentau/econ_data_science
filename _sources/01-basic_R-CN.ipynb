{
 "cells": [
  {
   "cell_type": "markdown",
   "id": "880d09b6",
   "metadata": {},
   "source": [
    "# 基础R语言"
   ]
  },
  {
   "cell_type": "markdown",
   "id": "573a8e9c",
   "metadata": {},
   "source": [
    "## 引言\n",
    "\n",
    "任何一门编程语言都需要投入大量的时间才能掌握。[R-Introduction](https://cran.r-project.org/doc/manuals/r-release/R-intro.pdf) 是由R语言团队编写的官方操作手册。本章课程简要地涉及了当中的一些关键点。在本章教学后请自行仔细阅读 R-Introduction 。"
   ]
  },
  {
   "cell_type": "markdown",
   "id": "51435485",
   "metadata": {},
   "source": [
    "## 安装\n",
    "\n",
    "R语言是开源软件，在Windows，MacOS和Linux系统中都能运行。它的安装也十分便捷。\n",
    "\n",
    "* [R project](https://cran.r-project.org/mirrors.html) 是R语言的基础版本\n",
    "\n",
    "* [Microsoft R Open](https://mran.microsoft.com/open) 优化了底层的数值计算\n",
    "\n",
    "**本地操作界面**\n",
    "\n",
    "* 默认界面是极简风格的 `rgui` \n",
    "\n",
    "* [RStudio](https://www.rstudio.com/products/rstudio/download/) 是当前广受欢迎的IDE\n",
    "\n",
    "* 支持命令行界面 (command line interface, CLI)\n",
    "\n",
    "**Docker引擎**\n",
    "\n",
    "* Docker 是一个开源引擎，开发者可以通过沙箱的形式打包他们的应用，它使得程序能够在一个统一的“运行环境”(Linux或Windows操作系统)中运行。在本地下载好Docker之后，[rocker](https://hub.docker.com/r/rocker)能够为开发者提供不同用途的各种镜像。\n",
    "\n",
    "**远程操作界面**\n",
    "\n",
    "CUHK 的网上平台 [SCRP](https://scrp-login-2.econ.cuhk.edu.hk/) 提供了 \n",
    "* RStudio\n",
    "* JupyterHub \n",
    "\n",
    "远程服务器省去了安装步骤，并提供了一个一致而稳定的环境。"
   ]
  },
  {
   "cell_type": "markdown",
   "id": "6a860a7f",
   "metadata": {},
   "source": [
    "## 帮助系统\n",
    "\n",
    "帮助系统是我们学习新语言的最重要的帮手。在R语言中，如果我们只知道函数名称但不了解它用途，我们就可以使用`help(function_name)`指令或者简单地用一个问号`?function_name`来查看。如果我们只知道当中的部分关键词，那么就可以用双问号`??key_words`进行模糊查询。这样它就会返回多个可能相关的函数以供选择。\n",
    "**例子**: `?seq`, `??sequence`"
   ]
  },
  {
   "cell_type": "markdown",
   "id": "2b004305",
   "metadata": {},
   "source": [
    "## 赋值\n",
    " `<-` 是最基本的赋值指令。另一种常见的赋值符号是 `=` 。它们的作用都是给左侧的变量附上在右侧输入的 **值** 。这里的 **值** 并非一定是数值，也可能是向量、列表或者矩阵等等形式。这些我们将会在后续提到。"
   ]
  },
  {
   "cell_type": "code",
   "execution_count": null,
   "id": "f78742ca",
   "metadata": {
    "vscode": {
     "languageId": "r"
    }
   },
   "outputs": [],
   "source": [
    "# Personally I prefer \"=\" to \"<-\".\n",
    "# Here are a few trivial computation and screen printing.\n",
    "\n",
    "a <- 1\n",
    "b <- 2\n",
    "f = a + b # try to avoid `c`, which is an internal command\n",
    "d = log(f)\n",
    "e = sqrt(d)\n",
    "\n",
    "cat(\"log(c) =\", e, \"is a simple calculation\")\n",
    "print(e)\n",
    "cat(\"exp(e) =\", exp(e), \". I want a nice new line. \\n\")\n",
    "print(d)"
   ]
  },
  {
   "cell_type": "code",
   "execution_count": null,
   "id": "a5a08f62",
   "metadata": {
    "vscode": {
     "languageId": "r"
    }
   },
   "outputs": [],
   "source": [
    "ls() # display the objects in memory"
   ]
  },
  {
   "cell_type": "markdown",
   "id": "00965480",
   "metadata": {},
   "source": [
    "R语言对于变量名字母大小写敏感；`a` 和 `A` 是两个完全不同的对象。"
   ]
  },
  {
   "cell_type": "code",
   "execution_count": null,
   "id": "123ad5af",
   "metadata": {
    "vscode": {
     "languageId": "r"
    }
   },
   "outputs": [],
   "source": [
    "A = \"abc\"\n",
    "cat(\"a is\", a, \", whereas A is \", A, \".\")"
   ]
  },
  {
   "cell_type": "markdown",
   "id": "552614d4",
   "metadata": {},
   "source": [
    "下面这个指令可以清空工作历史中的所有变量。规范的程序一般会把它放在整个脚本的第一行。"
   ]
  },
  {
   "cell_type": "code",
   "execution_count": null,
   "id": "14ac3c66",
   "metadata": {
    "vscode": {
     "languageId": "r"
    }
   },
   "outputs": [],
   "source": [
    "rm(list = ls())"
   ]
  },
  {
   "cell_type": "markdown",
   "id": "eb2ca5c7",
   "metadata": {},
   "source": [
    "## 向量"
   ]
  },
  {
   "cell_type": "markdown",
   "id": "11bd2bab",
   "metadata": {},
   "source": [
    "**向量** 是相同类型的元素的集合，比如整数(integer)、逻辑值(logical value）、实数(real number)、复数(complex number)、字符(characters) 或者 因子(factor)。在R语言中，通常情况下我们不需要宣言元素的类型。"
   ]
  },
  {
   "cell_type": "markdown",
   "id": "6f257702",
   "metadata": {},
   "source": [
    " `c()` 可以把两个以上的向量组合为一个更长的向量。\n",
    "\n",
    "二元运算符号 `+`, `-`, `*` 和 `/` 默认是每个元素一个一个运算的。二元逻辑符号 `&` `|` `!=`也是一样的。我们可以参考下面的例子来理解。"
   ]
  },
  {
   "cell_type": "code",
   "execution_count": null,
   "id": "a39ecb87",
   "metadata": {
    "vscode": {
     "languageId": "r"
    }
   },
   "outputs": [],
   "source": [
    "a = c(1,2,3, 4)\n",
    "b = rep(c(1,2), 2)\n",
    "print(a+b)"
   ]
  },
  {
   "cell_type": "code",
   "execution_count": null,
   "id": "0bc3a2a1",
   "metadata": {
    "vscode": {
     "languageId": "r"
    }
   },
   "outputs": [],
   "source": [
    "# logical vectors\n",
    "logi_1 <- c(T, T, F)\n",
    "logi_2 <- c(F, T, T)\n",
    "\n",
    "logi_12 <- logi_1 & logi_2\n",
    "print(logi_12)"
   ]
  },
  {
   "cell_type": "markdown",
   "id": "c8690939",
   "metadata": {},
   "source": [
    "R语言中的 **因子** (factor)是代表分类。而 **字符** (characters)则是纯文本。尽管因子往往也是字符串的形式，但是在实际使用中，二者有明显的不同。\n",
    "\n",
    "R语言中的缺省值用`NA`来表示(Not Available)"
   ]
  },
  {
   "cell_type": "code",
   "execution_count": null,
   "id": "0983f745",
   "metadata": {
    "vscode": {
     "languageId": "r"
    }
   },
   "outputs": [],
   "source": [
    "a = NA; b = 3; a+b"
   ]
  },
  {
   "cell_type": "markdown",
   "id": "2dc17fed",
   "metadata": {},
   "source": [
    "当有一些运算不成立时，比如`log(-1)`，R语言会返回`NAN` (not a number)"
   ]
  },
  {
   "cell_type": "code",
   "execution_count": null,
   "id": "05f838e9",
   "metadata": {
    "vscode": {
     "languageId": "r"
    }
   },
   "outputs": [],
   "source": [
    "log(-1)"
   ]
  },
  {
   "cell_type": "code",
   "execution_count": null,
   "id": "32d21d44",
   "metadata": {
    "vscode": {
     "languageId": "r"
    }
   },
   "outputs": [],
   "source": [
    "sqrt(-1)"
   ]
  },
  {
   "cell_type": "code",
   "execution_count": null,
   "id": "93d65055",
   "metadata": {
    "vscode": {
     "languageId": "r"
    }
   },
   "outputs": [],
   "source": [
    "a = Inf\n",
    "a+a"
   ]
  },
  {
   "cell_type": "code",
   "execution_count": null,
   "id": "429e1509",
   "metadata": {
    "vscode": {
     "languageId": "r"
    }
   },
   "outputs": [],
   "source": [
    "b = -Inf\n",
    "a+b"
   ]
  },
  {
   "cell_type": "markdown",
   "id": "51e06e7c",
   "metadata": {},
   "source": [
    "## 筛选\n",
    "\n",
    "向量的筛选通过方框指令 `a[ ]` 来实现。\n",
    "R语言不是从0开始，而是从1开始。"
   ]
  },
  {
   "cell_type": "code",
   "execution_count": null,
   "id": "8004d7aa",
   "metadata": {
    "vscode": {
     "languageId": "r"
    }
   },
   "outputs": [],
   "source": [
    "a = 1:10\n",
    "a[5:7]"
   ]
  },
  {
   "cell_type": "code",
   "execution_count": null,
   "id": "e06df0f1",
   "metadata": {
    "vscode": {
     "languageId": "r"
    }
   },
   "outputs": [],
   "source": [
    "d = seq(-1, 1, by = 0.1); print(d)\n",
    "d[5:7]"
   ]
  },
  {
   "cell_type": "code",
   "execution_count": null,
   "id": "339ba816",
   "metadata": {
    "vscode": {
     "languageId": "r"
    }
   },
   "outputs": [],
   "source": [
    "c = c(\"a\",\"b\",\"c\",\"d\",\"e\",\"f\",\"g\",\"h\",\"i\",\"j\")\n",
    "c[5:7]"
   ]
  },
  {
   "cell_type": "code",
   "execution_count": null,
   "id": "73d3aa01",
   "metadata": {
    "vscode": {
     "languageId": "r"
    }
   },
   "outputs": [],
   "source": [
    "b = \"abcdefghij\"\n",
    "b[5:7] # the indexed items do not exists"
   ]
  },
  {
   "cell_type": "markdown",
   "id": "6314069a",
   "metadata": {},
   "source": [
    "## 类型"
   ]
  },
  {
   "cell_type": "code",
   "execution_count": null,
   "id": "da2419ff",
   "metadata": {
    "vscode": {
     "languageId": "r"
    }
   },
   "outputs": [],
   "source": [
    "a <- \"18\"; print(a)\n",
    "b <- as.numeric(a); print(b)"
   ]
  },
  {
   "cell_type": "code",
   "execution_count": null,
   "id": "43871f5f",
   "metadata": {
    "vscode": {
     "languageId": "r"
    }
   },
   "outputs": [],
   "source": [
    "x = pi * c(-1:1, 10); print(x)\n",
    "as.integer(x)"
   ]
  },
  {
   "cell_type": "code",
   "execution_count": null,
   "id": "1b40a305",
   "metadata": {
    "vscode": {
     "languageId": "r"
    }
   },
   "outputs": [],
   "source": [
    "a = 3\n",
    "is.integer(a)\n",
    "\n",
    "a = as.integer(3)\n",
    "print(a)\n",
    "is.integer(a)\n",
    "\n",
    "b = as.double(a)\n",
    "is.integer(b)\n",
    "print(b)"
   ]
  },
  {
   "cell_type": "markdown",
   "id": "667b4ccc",
   "metadata": {},
   "source": [
    "## 数组和矩阵\n",
    "\n",
    "**数组** (array)是可以在两个或者以上的维度存储数据的R语言数据类型。**矩阵** (matrix)是二维的数组。\n",
    "\n",
    "* R 以列为主顺序\n",
    "* 数组运算: 每个对应元素一个个运算 "
   ]
  },
  {
   "cell_type": "code",
   "execution_count": null,
   "id": "14186db4",
   "metadata": {
    "vscode": {
     "languageId": "r"
    }
   },
   "outputs": [],
   "source": [
    "A = array(rpois(4*3*2, lambda = 1), dim = c(4,3,2)); print(A) # 3 dimensional array"
   ]
  },
  {
   "cell_type": "code",
   "execution_count": null,
   "id": "50feb9b3",
   "metadata": {
    "vscode": {
     "languageId": "r"
    }
   },
   "outputs": [],
   "source": [
    "B = A = array(rnorm(4*3*2), dim = c(4,3,2))\n",
    "print(A+B)"
   ]
  },
  {
   "cell_type": "markdown",
   "id": "fb8452c3",
   "metadata": {},
   "source": [
    "处理两个长度不同的数组运算时一定要特别谨慎，这种时候特别容易遇到各种报错。"
   ]
  },
  {
   "cell_type": "code",
   "execution_count": null,
   "id": "8aa6bc70",
   "metadata": {
    "vscode": {
     "languageId": "r"
    }
   },
   "outputs": [],
   "source": [
    "A = matrix(1:6, 3); print(A)"
   ]
  },
  {
   "cell_type": "code",
   "execution_count": null,
   "id": "3d076a8f",
   "metadata": {
    "vscode": {
     "languageId": "r"
    }
   },
   "outputs": [],
   "source": [
    "B = matrix(1:3, 3); print(B)"
   ]
  },
  {
   "cell_type": "code",
   "execution_count": null,
   "id": "885a4067",
   "metadata": {
    "vscode": {
     "languageId": "r"
    }
   },
   "outputs": [],
   "source": [
    "print(A+B) # produce error message"
   ]
  },
  {
   "cell_type": "markdown",
   "id": "dbfbc142",
   "metadata": {},
   "source": [
    "在编程中**Warning**和**Error**不同。由于长度不同导致无法运算时会报错(Error)。由于长度不同，即使可以计算的时候，程序一般也会出现Warning。请注意区分这两种情况。"
   ]
  },
  {
   "cell_type": "code",
   "execution_count": null,
   "id": "4768d553",
   "metadata": {
    "vscode": {
     "languageId": "r"
    }
   },
   "outputs": [],
   "source": [
    "b = 1:3\n",
    "print(A+b)"
   ]
  },
  {
   "cell_type": "code",
   "execution_count": null,
   "id": "d02b9d26",
   "metadata": {
    "vscode": {
     "languageId": "r"
    }
   },
   "outputs": [],
   "source": [
    "d = 1:4\n",
    "print(A+d)"
   ]
  },
  {
   "cell_type": "markdown",
   "id": "ab0dc5d1",
   "metadata": {},
   "source": [
    "* `%*%`: 矩阵乘法\n",
    "* `solve`: 求逆矩阵\n",
    "* `eigen`: 求特征值和特征向量"
   ]
  },
  {
   "cell_type": "markdown",
   "id": "b2f53ec3",
   "metadata": {},
   "source": [
    "**例子**: 有单一自变量 $x$ 和常数的的OLS估计中，大学教科书中用矩阵形式将OLS表示为：\n",
    "\n",
    "$$\n",
    "\\hat{\\beta} = (X' X)^{-1} X'y.\n",
    "$$\n",
    "\n",
    "为了在R语言中进行OLS估计，我们需要将这样的数学表达式转译成代码： \n",
    "\n",
    "第一步: 我们需要数据 $Y$ 和 $X$ 来运算OLS，因此我们首先创建一个数据集。"
   ]
  },
  {
   "cell_type": "code",
   "execution_count": null,
   "id": "1103a4ff",
   "metadata": {
    "vscode": {
     "languageId": "r"
    }
   },
   "outputs": [],
   "source": [
    "# simulate data\n",
    "rm(list = ls())\n",
    "set.seed(111) # can be removed to allow the result to change\n",
    "\n",
    "# set the parameters\n",
    "n <- 100\n",
    "b0 <- matrix(1, nrow = 2)\n",
    "\n",
    "# generate the data\n",
    "e <- rnorm(n)\n",
    "X <- cbind(1, rnorm(n))\n",
    "Y <- X %*% b0 + e"
   ]
  },
  {
   "cell_type": "markdown",
   "id": "481b7346",
   "metadata": {},
   "source": [
    "第二步: 把公式翻译成代码"
   ]
  },
  {
   "cell_type": "code",
   "execution_count": null,
   "id": "33a35cfe",
   "metadata": {
    "vscode": {
     "languageId": "r"
    }
   },
   "outputs": [],
   "source": [
    "# OLS estimation\n",
    "bhat <- solve(t(X) %*% X, t(X) %*% Y); print(bhat)"
   ]
  },
  {
   "cell_type": "code",
   "execution_count": null,
   "id": "5a9f8416",
   "metadata": {
    "vscode": {
     "languageId": "r"
    }
   },
   "outputs": [],
   "source": [
    "bhat <- solve( crossprod(X), crossprod(X, Y)) %T>% print( ) # equivalent computation"
   ]
  },
  {
   "cell_type": "markdown",
   "id": "fb0c48f1",
   "metadata": {},
   "source": [
    "第三步 (附加): 绘制散点图和回归线，进而对回归线(黑色)和真实值(红色)进行比较。"
   ]
  },
  {
   "cell_type": "code",
   "execution_count": null,
   "id": "de6ee5d4",
   "metadata": {
    "vscode": {
     "languageId": "r"
    }
   },
   "outputs": [],
   "source": [
    "# plot\n",
    "plot(y = Y, x = X[, 2], xlab = \"X\", ylab = \"Y\", main = \"regression\")\n",
    "abline(a = bhat[1], b = bhat[2])\n",
    "abline(a = b0[1], b = b0[2], col = \"red\")\n",
    "abline(h = 0, lty = 2)\n",
    "abline(v = 0, lty = 2)"
   ]
  },
  {
   "cell_type": "markdown",
   "id": "5dc4efcc",
   "metadata": {},
   "source": [
    "第四步: 在计量经济学中，我们通常还关心假设检验的结果。最常用的就是 *t* 统计量。\n",
    "为了检验原假设 $H_0: \\beta_2 = 1$ ，我们求解对应的 *t* 统计量。同样地，我们把公式翻译成代码。\n",
    "\n",
    "$$\n",
    "t  =  \\frac{\\hat{\\beta}_2 - \\beta_{02}}{ \\hat{\\sigma}_{\\hat{\\beta}_2}  }\n",
    "  =  \\frac{\\hat{\\beta}_2 - \\beta_{02}}{ \\sqrt{ \\left[ (X'X)^{-1} \\hat{\\sigma}^2 \\right]_{22} } }.\n",
    "$$\n",
    "\n",
    "其中 $[\\cdot]_{22}$ 是矩阵的(2,2)元素。"
   ]
  },
  {
   "cell_type": "code",
   "execution_count": null,
   "id": "1819f57c",
   "metadata": {
    "vscode": {
     "languageId": "r"
    }
   },
   "outputs": [],
   "source": [
    "# calculate the t-value\n",
    "bhat2 <- bhat[2] # the parameter we want to test\n",
    "e_hat <- Y - X %*% bhat\n",
    "sigma_hat_square <- sum(e_hat^2) / (n - 2)\n",
    "Sigma_B <- solve(t(X) %*% X) * sigma_hat_square\n",
    "t_value_2 <- (bhat2 - b0[2]) / sqrt(Sigma_B[2, 2])\n",
    "cat(\"The t-statistic =\", t_value_2)"
   ]
  },
  {
   "cell_type": "markdown",
   "id": "036c689c",
   "metadata": {},
   "source": [
    "## 混合数据类型\n",
    "\n",
    "一个向量只能包含一种的元素。但是 **列表** (list)可以同时装有不同类型的对象。当我们需要返回不止一种对象的时候，我们就可以使用列表。"
   ]
  },
  {
   "cell_type": "code",
   "execution_count": null,
   "id": "a4d048a6",
   "metadata": {
    "vscode": {
     "languageId": "r"
    }
   },
   "outputs": [],
   "source": [
    "Lst <- list(dept = \"Econ\", no = 5180)\n",
    "Lst"
   ]
  },
  {
   "cell_type": "code",
   "execution_count": null,
   "id": "a86c22bb",
   "metadata": {
    "vscode": {
     "languageId": "r"
    }
   },
   "outputs": [],
   "source": [
    "Lst$dept"
   ]
  },
  {
   "cell_type": "code",
   "execution_count": null,
   "id": "d3dfdcc5",
   "metadata": {
    "vscode": {
     "languageId": "r"
    }
   },
   "outputs": [],
   "source": [
    "Lst[[2]]"
   ]
  },
  {
   "cell_type": "markdown",
   "id": "02e7bfd8",
   "metadata": {},
   "source": [
    "**例子**: 当我们使用 `eigen` 时，我们既想知道特征值也想得到特征向量。我们就可以将其分别储存到`$value`和`$vector`中。 "
   ]
  },
  {
   "cell_type": "code",
   "execution_count": null,
   "id": "2a0e6861",
   "metadata": {
    "vscode": {
     "languageId": "r"
    }
   },
   "outputs": [],
   "source": [
    "A = diag(2)\n",
    "eigen(A)"
   ]
  },
  {
   "cell_type": "markdown",
   "id": "b9956584",
   "metadata": {},
   "source": [
    "## 拓展包\n",
    "\n",
    "R语言自带的基础包(base)十分有限，但是R有良好的拓展包生态系统。这对于R语言开发者来说是宝贵的财富，其他的语言(比如Python和MATLAB)无法媲美。\n",
    "大部分的R Packages都在[CRAN](https://cran.r-project.org/web/packages/) 平台。\n",
    "\n",
    "我们可以通过\n",
    "`install.packages(\"package_name\")`指令下载最新的安装包。为了调用我们需要的函数，我们可以用`library(package_name)`或者`package_name::function_name`指令在当前的程序中调用该拓展包。 \n",
    "前者将调用程序包中的所有函数，有时候会因为和其他函数名称相同引起冲突。后者则可以让整个环境更简洁。\n",
    "[Applied Econometrics with R](http://www.springer.com/gp/book/9780387773162) (Christian Kleiber 和 Achim Zeileis)是一本有用的教材。 它同时也伴有程序包`AER`。它当中包含了常见的计量方法，比如工具变量法和稳健方差估计。\n",
    "\n",
    "<!-- Before we can \"knit\" in R-studio the Rmd file to produce the pdf document you are reading at this moment, -->\n",
    "<!-- we have to install several packages such as [knitr](https://yihui.name/knitr/) and those it depends on. -->"
   ]
  },
  {
   "cell_type": "code",
   "execution_count": null,
   "id": "f5476987",
   "metadata": {
    "vscode": {
     "languageId": "r"
    }
   },
   "outputs": [],
   "source": [
    "# auto install missing packages\n",
    "wanted <- c(\"magrittr\", \"AER\", \"quantmod\", \"reshape2\", \"gridExtra\")\n",
    "missing <- setdiff(wanted, installed.packages())\n",
    "\n",
    "install.packages(missing)"
   ]
  },
  {
   "cell_type": "code",
   "execution_count": null,
   "id": "8e1629be",
   "metadata": {
    "vscode": {
     "languageId": "r"
    }
   },
   "outputs": [],
   "source": [
    "library(magrittr)"
   ]
  },
  {
   "cell_type": "markdown",
   "id": "8456476b",
   "metadata": {},
   "source": [
    "# 数据框"
   ]
  },
  {
   "cell_type": "markdown",
   "id": "a2d43438",
   "metadata": {},
   "source": [
    "**数据框** (data.frame) 是一个用来储存数据的二维表格，就像Excel数据表一样。矩阵(matrix)同样是二维表格，但不同之处在于，它只能容纳一种元素。\n",
    "现实生活中，数据可能是整数、实数、字符、分类数据等各种各样的类型。因此，在R语言当中，处理混合数据时默认使用的类型是数据框。`tibble`是一种新的改良过的数据框类型。\n",
    "\n",
    "下面是一个本科计量经济学教材中的数据集。我们载入数据并展示前6个记录。"
   ]
  },
  {
   "cell_type": "code",
   "execution_count": null,
   "id": "8f2d661f",
   "metadata": {
    "vscode": {
     "languageId": "r"
    }
   },
   "outputs": [],
   "source": [
    "library(AER)\n",
    "data(\"CreditCard\")\n",
    "head(CreditCard)"
   ]
  },
  {
   "cell_type": "code",
   "execution_count": null,
   "id": "1cba9869",
   "metadata": {
    "vscode": {
     "languageId": "r"
    }
   },
   "outputs": [],
   "source": [
    "print(tail(CreditCard$income))"
   ]
  },
  {
   "cell_type": "markdown",
   "id": "16dd7a73",
   "metadata": {},
   "source": [
    "## 输入和输出\n",
    "\n",
    "原始数据通常以ASCII文件或者Excel文件形式储存。我不建议使用Excel数据表来进行数据分析，因为Excel文件背后的结构难以被统计软件识别。我推荐`csv`文件形式，一种简单的ASCII格式。\n",
    "\n",
    "`read.table()` 或者 `read.csv()` 可以把数据从ASCII文件中导入R语言。"
   ]
  },
  {
   "cell_type": "markdown",
   "id": "ccd17571",
   "metadata": {},
   "source": [
    "**例子**: Acemoglu, Johnson and Robinson (2001). [Data source](https://economics.mit.edu/faculty/acemoglu/data/ajr2001). 这个实证研究的例子 被 Chang, Shi and Zhang (2022) 采用。"
   ]
  },
  {
   "cell_type": "code",
   "execution_count": null,
   "id": "a41112ef",
   "metadata": {
    "vscode": {
     "languageId": "r"
    }
   },
   "outputs": [],
   "source": [
    "AJR = read.csv(\"data_example/AJR.csv\", header = TRUE)\n",
    "head(AJR)"
   ]
  },
  {
   "cell_type": "markdown",
   "id": "e713c870",
   "metadata": {},
   "source": [
    "<a id='AJR_exec'></a>\n",
    "**练习**\n",
    "\n",
    "使用数据集 `AJR.csv`. \n",
    "* 收集一个5列的小型数据集 `shortnam`, `logpgp95`, `avexpr`, `lat_abst`, `logem4` (log of mortality rate) 和 `cons1`.\n",
    "* 如果哪个国家缺失了上述的任意变量，那么从数据库中删去该国家。 (提示: 使用`apply()`)"
   ]
  },
  {
   "cell_type": "markdown",
   "id": "9b3d3d8c",
   "metadata": {},
   "source": [
    "**例子**: 对于中文字符来说，我建议使用 `UTF-8` 编码。否则，SCRP很可能无法识别乱码的文本。如果原数据中是用\"UTF-8\"编码的，`Notepad++`是一个转译编码的免费工具。可以查看它菜单中的`Encoding`。"
   ]
  },
  {
   "cell_type": "code",
   "execution_count": null,
   "id": "7807f826",
   "metadata": {
    "vscode": {
     "languageId": "r"
    }
   },
   "outputs": [],
   "source": [
    "# stock_id <- readr::read_csv(\"data_example/SH_stockid_UTF8.csv\", locale = readr::locale(encoding = \"UTF-8\"))\n",
    "stock_id <- readr::read_csv(\"data_example/SH_stockid_UTF8.csv\")\n",
    "head(stock_id)"
   ]
  },
  {
   "cell_type": "markdown",
   "id": "86993e99",
   "metadata": {},
   "source": [
    "`write.table()` 或 `write.csv()` 可以从R控制台中将数据导出为ASCII文件。"
   ]
  },
  {
   "cell_type": "code",
   "execution_count": null,
   "id": "99768c92",
   "metadata": {
    "vscode": {
     "languageId": "r"
    }
   },
   "outputs": [],
   "source": [
    "write.csv(CreditCard, \"CreditCard.csv\")"
   ]
  },
  {
   "cell_type": "markdown",
   "id": "664d7b6b",
   "metadata": {},
   "source": [
    "**例子**\n",
    "\n",
    "除了在本地硬盘上加载数据文件，我们也可以直接从网络下载数据。在此，我们介绍如何从 *Yahoo Finance* 获得 *Apple Inc.* 的每日股价数据。我们需要使用到`quantmod`拓展包。"
   ]
  },
  {
   "cell_type": "code",
   "execution_count": null,
   "id": "b01de9f0",
   "metadata": {
    "vscode": {
     "languageId": "r"
    }
   },
   "outputs": [],
   "source": [
    "quantmod::getSymbols(\"AAPL\", src = \"yahoo\")\n",
    "tail(AAPL)\n",
    "plot(AAPL$AAPL.Close)"
   ]
  },
  {
   "cell_type": "markdown",
   "id": "4331771a",
   "metadata": {},
   "source": [
    "另一个例子: [Quarterly US Industrial Production Index](https://fred.stlouisfed.org/series/IPB50001SQ)"
   ]
  },
  {
   "cell_type": "code",
   "execution_count": null,
   "id": "6202f88b",
   "metadata": {
    "vscode": {
     "languageId": "r"
    }
   },
   "outputs": [],
   "source": [
    "quantmod::getSymbols.FRED(Symbols = c(\"IPB50001SQ\"), env = .GlobalEnv)\n",
    "plot(IPB50001SQ)"
   ]
  },
  {
   "cell_type": "markdown",
   "id": "7077bee0",
   "metadata": {},
   "source": [
    "## 统计数据\n",
    "\n",
    "R是一个统计软件，它自然有各种内置的统计学函数。\n",
    "\n",
    "`p` (概率 probability), `d` (密度 density), `q` (分位点 quantile), `r` (生成随机变量 random variable generator)可以放在概率分布的名称前面使用。R语言中的常见概率分布比如 `norm` (正态分布), `chisq` ($\\chi^2$), `t` (*t*分布),\n",
    "`weibull` (韦伯分布), `cauchy` (柯西分布), `binomial` (二项分布), `pois` (泊松分布)， 不一而足。"
   ]
  },
  {
   "cell_type": "code",
   "execution_count": null,
   "id": "43f61ea4",
   "metadata": {
    "vscode": {
     "languageId": "r"
    }
   },
   "outputs": [],
   "source": [
    "pnorm(0)"
   ]
  },
  {
   "cell_type": "code",
   "execution_count": null,
   "id": "5317acda",
   "metadata": {
    "vscode": {
     "languageId": "r"
    }
   },
   "outputs": [],
   "source": [
    "qnorm(0.975)"
   ]
  },
  {
   "cell_type": "code",
   "execution_count": null,
   "id": "b4b28442",
   "metadata": {
    "vscode": {
     "languageId": "r"
    }
   },
   "outputs": [],
   "source": [
    "rnorm(5)"
   ]
  },
  {
   "cell_type": "code",
   "execution_count": null,
   "id": "3ae8042c",
   "metadata": {
    "vscode": {
     "languageId": "r"
    }
   },
   "outputs": [],
   "source": [
    "dnorm(0)"
   ]
  },
  {
   "cell_type": "markdown",
   "id": "1462f40d",
   "metadata": {},
   "source": [
    "**例子**\n",
    "\n",
    "这里的例子展示了样本误差\n",
    "\n",
    "1. 在一个网格系统`x_axis = seq(0.01, 15, by = 0.01)`上画出 $\\chi^2(3)$ 的密度；(黑线)\n",
    "2. 从 $\\chi^2(3)$ 分布中生成1000个观测值，画出kernel密度(实际密度的一个非参数估计)；(红线)\n",
    "3. 计算95%的分位数和观察到一个值大于95%的实证概率。\n",
    "在总体中，这个概率应当是5%。那么本次实验得到的数字是什么呢?"
   ]
  },
  {
   "cell_type": "code",
   "execution_count": null,
   "id": "e4c624cb",
   "metadata": {
    "vscode": {
     "languageId": "r"
    }
   },
   "outputs": [],
   "source": [
    "set.seed(888)\n",
    "x_axis <- seq(0.01, 15, by = 0.01)\n",
    "\n",
    "y <- dchisq(x_axis, df = 3)\n",
    "plot(y = y, x = x_axis, type = \"l\", xlab = \"x\", ylab = \"density\")\n",
    "z <- rchisq(1000, df = 3)\n",
    "lines(density(z), col = \"red\")\n",
    "crit <- qchisq(.95, df = 3)\n",
    "\n",
    "mean(z > crit)"
   ]
  },
  {
   "cell_type": "markdown",
   "id": "5ef3b2da",
   "metadata": {},
   "source": [
    "## 自定义函数\n",
    "\n",
    "R有许多的内置函数。不过在实际使用中我们往往会遇到各种需要自己DIY函数的情况。 最推荐的方式是自行封装一个用户自定义函数。它有如下优点：\n",
    "\n",
    "1. 在搭建程序时，它可以减小代码量，使得一个复杂的程序被拆分为易于操作的各个部分； \n",
    "2. 有些脚本可能甚至有成百上千的变量，自定义函数内部的变量是局部变量而不是全局变量，这样的话它们就不容易与函数外部的变量发生混淆。自定义函数只有在输入和输出的时候才与外部程序有交互。\n",
    "3. 如果我们需要修改程序，我们只需要在函数中修改一次而不需要把每个地方进行修改。\n",
    "\n",
    "R语言自定义函数的格式是：\n"
   ]
  },
  {
   "cell_type": "markdown",
   "id": "2f678016",
   "metadata": {
    "vscode": {
     "languageId": "r"
    }
   },
   "source": [
    "```\n",
    "function_name <- function(input) {\n",
    "  expressions\n",
    "  return(output)\n",
    "}\n",
    "```"
   ]
  },
  {
   "cell_type": "markdown",
   "id": "267d1e1d",
   "metadata": {},
   "source": [
    "**例子**\n",
    "\n",
    "如果中心极限定理成立，给定样本，那么我们可以计算95%的双边置信区间\n",
    "\n",
    "$$\n",
    "\\left(\\hat{\\mu} - \\frac{1.96}{\\sqrt{n}} \\hat{\\sigma}, \\hat{\\mu} + \\frac{1.96}{\\sqrt{n}} \\hat{\\sigma} \\right)\n",
    "$$\n",
    "\n",
    "这个的计算并不难，但是我并不知道R语言是否有内置函数能够实现这个功能。下面是一个自定义的置信区间函数：\n"
   ]
  },
  {
   "cell_type": "code",
   "execution_count": null,
   "id": "203c8a26",
   "metadata": {
    "vscode": {
     "languageId": "r"
    }
   },
   "outputs": [],
   "source": [
    "# construct confidence interval\n",
    "\n",
    "CI <- function(x) {\n",
    "  # x is a vector of random variables\n",
    "\n",
    "  n <- length(x)\n",
    "  mu <- mean(x)\n",
    "  sig <- sd(x)\n",
    "  upper <- mu + 1.96 / sqrt(n) * sig\n",
    "  lower <- mu - 1.96 / sqrt(n) * sig\n",
    "  return(list(lower = lower, upper = upper))\n",
    "}"
   ]
  },
  {
   "cell_type": "markdown",
   "id": "05eb7152",
   "metadata": {},
   "source": [
    "## 控制流\n",
    "\n",
    "控制流是所有编程语言的必备功能。\n",
    "`if` 用于条件选择， 而 `for` 或者 `while` 用于循环。\n",
    "\n",
    "**例子**\n",
    "\n",
    "计算自由度为2的泊松分布的收敛概率。我们将实验重复1000次。"
   ]
  },
  {
   "cell_type": "code",
   "execution_count": null,
   "id": "4c0b865e",
   "metadata": {
    "vscode": {
     "languageId": "r"
    }
   },
   "outputs": [],
   "source": [
    "Rep <- 1000\n",
    "sample_size <- 100\n",
    "capture <- rep(0, Rep)\n",
    "\n",
    "if (sample_size < 50){\n",
    "      print(\"Sample size too small. Refuse to work\")\n",
    "      } else {\n",
    "    for (i in 1:Rep) {\n",
    "      mu <- 2\n",
    "      x <- rpois(sample_size, mu)\n",
    "      bounds <- CI(x)\n",
    "      capture[i] <- ((bounds$lower <= mu) & (mu <= bounds$upper))\n",
    "    }\n",
    "    print(\"Asymptotic theory may work\")\n",
    "    cat(\"the emprical size = \", mean(capture)) # empirical size\n",
    "}"
   ]
  },
  {
   "cell_type": "markdown",
   "id": "e8e0f2c2",
   "metadata": {},
   "source": [
    "## 统计学模型\n",
    "\n",
    "统计学模型通常用 `y~x` 表示， 其中左侧的 `y` 是因变量。右侧的 `x` 为解释变量。\n",
    "自带的函数是 `lm` 。使用方式为 `lm(y~x, data = data_frame)`。\n",
    "\n",
    "R语言自带的所有回归函数都有相同的结构。学会了其中一种，自然可以举一反三。\n",
    "\n",
    "### 线性回归例子\n",
    "\n",
    "我们通过模拟数据来展示一个例子。"
   ]
  },
  {
   "cell_type": "code",
   "execution_count": null,
   "id": "e9c67be1",
   "metadata": {
    "vscode": {
     "languageId": "r"
    }
   },
   "outputs": [],
   "source": [
    "T <- 100\n",
    "p <- 1\n",
    "\n",
    "b0 <- 1\n",
    "# Generate data\n",
    "x <- matrix(rnorm(T * p), T, 1)\n",
    "y <- x %*% b0 + rnorm(T)\n",
    "\n",
    "# Linear Model\n",
    "result <- lm(y ~ x)\n",
    "summary(result)"
   ]
  },
  {
   "cell_type": "markdown",
   "id": "581e6e1c",
   "metadata": {},
   "source": [
    " `result` 是一个包含了所有回归结果的列表。我们可以从results中看到所有的估计参数值、$t$检验结果、$F$检验结果和R方。我们可以画出真实值和拟合值来检验回归模型的拟合效果。"
   ]
  },
  {
   "cell_type": "code",
   "execution_count": null,
   "id": "893e3b7e",
   "metadata": {
    "vscode": {
     "languageId": "r"
    }
   },
   "outputs": [],
   "source": [
    "plot(result$fitted.values,\n",
    "  col = \"red\", type = \"l\", xlab = \"x\", ylab = \"y\",\n",
    "  main = \"Fitted Value\"\n",
    ")\n",
    "lines(y, col = \"blue\", type = \"l\", lty = 2)\n",
    "legend(\"bottomleft\",\n",
    "  legend = c(\"Fitted Value\", \"True Value\"),\n",
    "  col = c(\"red\", \"blue\"), lty = 1:2, cex = 0.75\n",
    ")\n"
   ]
  },
  {
   "cell_type": "markdown",
   "id": "b91902c2",
   "metadata": {},
   "source": [
    "然后我们画出拟合的直线。"
   ]
  },
  {
   "cell_type": "code",
   "execution_count": null,
   "id": "a2c4fa9d",
   "metadata": {
    "vscode": {
     "languageId": "r"
    }
   },
   "outputs": [],
   "source": [
    "plot(y = y, x = x, xlab = \"x\", ylab = \"y\", main = \"Fitted Line\")\n",
    "abline(a = result$coefficients[1], b = result$coefficients[2])\n",
    "abline(a = 0, b = b0, col = \"red\")\n",
    "\n",
    "legend(\"bottomright\",\n",
    "  legend = c(\"Fitted Line\", \"True Coef\"),\n",
    "  col = c(\"black\", \"red\"), lty = c(1, 1), cex = 0.75\n",
    ")"
   ]
  },
  {
   "cell_type": "markdown",
   "id": "ec66e3b2",
   "metadata": {},
   "source": [
    "**练习**\n",
    "\n",
    "在先前的练习中(#AJR_exec)，我们编译了`AJR.csv`中所有的`shortnam`、 `logpgp95`、 `avexpr`、`lat_abst`、 和 `logem4` 变量。现在请尝试把`logpgp95`作为因变量进行工具变量回归，其中`avexpr`和`latabst`为解释变量而`logem4`和`lat_abst`是工具变量。(提示: 使用函数`AER::ivreg()`)"
   ]
  },
  {
   "cell_type": "markdown",
   "id": "9f9ad480",
   "metadata": {},
   "source": [
    "## 拓展阅读\n",
    "\n",
    "<!-- [Wickham and Grolemund](https://r4ds.had.co.nz/): Ch 1, 2, 4, 8, 19 and 20 -->\n",
    "* 详细阅读 [R-Introduction](https://cran.r-project.org/doc/manuals/r-release/R-intro.pdf) \n",
    "* Wickham and Grolemund (https://r4ds.had.co.nz/)\n",
    "  * 第四章: workflow:basics\n",
    "  * 第六章: workflow:scripts"
   ]
  },
  {
   "cell_type": "markdown",
   "id": "77905af4",
   "metadata": {},
   "source": [
    "## 参考文献\n",
    "\n",
    "* Acemoglu, Daron, Simon Johnson, and James A. Robinson. \"The colonial origins of comparative development: An empirical investigation.\" American economic review 91, no. 5 (2001): 1369-1401.\n",
    "* Chang, Jinyuan., Shi, Zhentao. and Zhang, Jia., 2022. Culling the herd of moments with penalized empirical likelihood. Journal of Business & Economic Statistics,  pp.1-39."
   ]
  }
 ],
 "metadata": {
  "kernelspec": {
   "display_name": "R",
   "language": "R",
   "name": "ir"
  },
  "language_info": {
   "codemirror_mode": "r",
   "file_extension": ".r",
   "mimetype": "text/x-r-source",
   "name": "R",
   "pygments_lexer": "r",
   "version": "4.2.0"
  }
 },
 "nbformat": 4,
 "nbformat_minor": 5
}
