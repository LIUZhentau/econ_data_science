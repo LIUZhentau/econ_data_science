{
 "cells": [
  {
   "cell_type": "code",
   "execution_count": null,
   "metadata": {},
   "outputs": [],
   "source": [
    "Econometric modeling. \n",
    "\n",
    "1. hypothesized model (micro, macro, ...)\n",
    "2. Identification\n",
    "3. Estimation and inference\n",
    "\n",
    "Only the third step requires data."
   ]
  },
  {
   "cell_type": "code",
   "execution_count": null,
   "metadata": {},
   "outputs": [],
   "source": []
  }
 ],
 "metadata": {
  "language_info": {
   "name": "python"
  },
  "orig_nbformat": 4
 },
 "nbformat": 4,
 "nbformat_minor": 2
}
