{
 "cells": [
  {
   "cell_type": "markdown",
   "metadata": {
    "nteract": {
     "transient": {
      "deleting": false
     }
    }
   },
   "source": [
    "SCRP [login](https://scrp-login-2.econ.cuhk.edu.hk/)"
   ]
  },
  {
   "cell_type": "markdown",
   "metadata": {
    "nteract": {
     "transient": {
      "deleting": false
     }
    }
   },
   "source": [
    "We can use either `JupyterLab` or `RStudio` to get access.\n",
    "\n",
    "we can navigate using `linux` command. `Git` is installed to update files."
   ]
  },
  {
   "cell_type": "markdown",
   "metadata": {},
   "source": [
    "## Cloud Computing\n",
    "\n",
    "Investing money from our own pocket to an extremely powerful laptop to conduct heavy-lifting computational work\n",
    "is unnecessary. (i) We do not run these long jobs every day, it is more cost efficient\n",
    "to share a workhorse. (ii) We cannot keep our laptop always on when we move it\n",
    "around. The right solution is cloud computing on a server.\n",
    "\n",
    "Many of us have experience with cloud storage, such as Dropbox and Baidu Netdisk. \n",
    "Few people are exposed to cloud computing. However, no fundamental difference lies between local and cloud computing.\n",
    "We prepare in the cloud serve the data and code, open a shell for communication, run the code, and collect the results.\n",
    "One potential obstacle is dealing with a command-line-based operation system.\n",
    "Such command line tools is the norm of life two or three decades ago, but today we mostly\n",
    "work in a graphic operating system like Windows or OSX.\n",
    "For Windows users (I am one of them), I recommend `Git Bash` as a shell, and [`WinSCP`](http://winscp.net/eng/download.php), a graphic interface for input and output.\n",
    "\n",
    "Cloud computing also provides a strong justification for open-source languages such as R or Python. These open-source languages can be installed on as many remote serves as the resource permits. In contrast, proprietary software will be prohibitively expensive for server licensing.\n",
    "\n",
    "\n"
   ]
  },
  {
   "cell_type": "markdown",
   "metadata": {},
   "source": [
    "Over the years, the cost and barrier of remote computing have reduced significantly. Remote desktop best mimics the familiar operation system on a local computer, but it is not recommended due to the latency via Internet. We will feel the latency when we move the mouse or type on the keyboard.\n",
    "\n",
    "Remote Jupyter and Rstudio works differently. The use a web browser as an interface. The mouse and keyboard are still local. The command is send from the browser to the remote computer, and then the results are send back to the browser for display. The IDEs also have file management, to partially replace WinSCP.\n",
    "\n",
    "The most flexible way is to use CLI. "
   ]
  },
  {
   "cell_type": "markdown",
   "metadata": {},
   "source": [
    "\n",
    "\n",
    "### Command Line\n",
    "\n",
    "Most servers run Unix/Linux operation system.\n",
    "Here are a few commands for basic operations.\n",
    "\n",
    "* `mkdir`: make directory\n",
    "* `cd`: change directory\n",
    "* `copy`: copy files\n",
    "* `top`: check login status\n",
    "* `screen`: a separated screen for isolation\n",
    "* `ssh`: user@address\n",
    "* start a program\n",
    "\n",
    "Our department's computation infrastructure has been improving.\n",
    "A server dedicated to professors is a 32-core machine. Students also have \n",
    "access to a powerful multi-core computer.\n"
   ]
  },
  {
   "cell_type": "markdown",
   "metadata": {},
   "source": [
    "![](graph/econ_super)\n"
   ]
  },
  {
   "cell_type": "markdown",
   "metadata": {},
   "source": [
    "\n",
    "1. Log in `econsuper.econ.cuhk.edu.hk`;\n",
    "2. Upload R scripts and data to the server;\n",
    "3. In a shell, run `R --vanilla <file_name.R> result_file_name.out`;\n",
    "4. To run a command in the background, add `&` at the end of the above command.\n",
    "\n",
    "This example comes from @lin2020. As a demonstration, we only use 15% of the data and \n",
    "a sparse grid of tuning parameters. It makes about 9 minutes with 24 cores.\n"
   ]
  },
  {
   "cell_type": "markdown",
   "metadata": {
    "vscode": {
     "languageId": "r"
    }
   },
   "source": [
    "```\n",
    "ssh ztshi@econsuper.econ.cuhk.edu.hk\n",
    "cd data_example\n",
    "R --vanilla <Beijing_housing_gbm.R> GBM_BJ.out & \n",
    "```"
   ]
  },
  {
   "cell_type": "markdown",
   "metadata": {},
   "source": [
    "If a job consumes lots of time, it is better to keep them running on the background so that the terminal can be freed for other task. \n",
    "It is also important that when a task is running in the background, we can disconnect with the server and the task is still running. \n",
    "Otherwise, the task will be terminated immediately once we close window, disconnect with the server, or lose Internet or VPN connection."
   ]
  },
  {
   "cell_type": "markdown",
   "metadata": {},
   "source": [
    "Working without a graphic interface means that we cannot interact with intermediate results. We also must think in advance how to retrieve the results.\n",
    "Although we can save the screen print in a text file, it will be convenient to export the key results as physical data files (rds, csv, xls...) or graph files (pdf, jpeg, png). Before we run script in CLI (command line interface), it is suggested that you test the input and output in small scale on your local computer, if possible. "
   ]
  },
  {
   "cell_type": "markdown",
   "metadata": {},
   "source": [
    "![econ_super](graph/econ_super_top.png)\n"
   ]
  },
  {
   "cell_type": "markdown",
   "metadata": {},
   "source": [
    "\n",
    "### RStudio Server\n",
    "\n",
    "The command line shells lack a graphic interface for interactive data analysis. \n",
    "[RStudio server](https://rstudio.com/products/rstudio/#rstudio-server) offers a local-like\n",
    "environment via a web browser to communicate with a remote server. \n",
    "The remote server can be specified for users' need.\n",
    "\n",
    "\n",
    "* `RStudio Cloud` is a free service to facilitate teaching and demonstration. The underlying computation unit is \n",
    "too weak to execute serious tasks.\n",
    "* `Econsuper` is our department's service, which resembles a workplace environment in a small company. We can contact the technicians for our needs. The service is always online (with VPN connection), and much more powerful than the \n",
    "best local computer we can afford.\n",
    "* `Amazon Web Service Cloud` is commercial service that can be tailored according to one's budget, from tiny demonstrative display to big enterprise business applications.\n"
   ]
  },
  {
   "cell_type": "markdown",
   "metadata": {},
   "source": [
    "\n",
    "![AWS](graph/AWS.png)\n"
   ]
  },
  {
   "cell_type": "markdown",
   "metadata": {
    "nteract": {
     "transient": {
      "deleting": false
     }
    }
   },
   "source": []
  },
  {
   "cell_type": "markdown",
   "metadata": {},
   "source": [
    "## Reproducibility\n",
    "\n",
    "Keep the same environment across local computers and remote clusters.\n",
    "\n",
    "`renv` provides a system to easily reproduce an environment."
   ]
  },
  {
   "cell_type": "markdown",
   "metadata": {},
   "source": [
    "```\n",
    "renv::init() # initiate a local environment\n",
    "renv::snapshot() # scan the folder for packages and dependencies\n",
    "renv::restore() # restore the environment recorded in `renv.lock`\n",
    "```"
   ]
  }
 ],
 "metadata": {
  "kernel_info": {
   "name": "ir"
  },
  "kernelspec": {
   "display_name": "R [conda env:r]",
   "language": "R",
   "name": "conda-env-r-r"
  },
  "language_info": {
   "codemirror_mode": "r",
   "file_extension": ".r",
   "mimetype": "text/x-r-source",
   "name": "R",
   "pygments_lexer": "r",
   "version": "4.1.2"
  },
  "nteract": {
   "version": "0.28.0"
  }
 },
 "nbformat": 4,
 "nbformat_minor": 4
}
